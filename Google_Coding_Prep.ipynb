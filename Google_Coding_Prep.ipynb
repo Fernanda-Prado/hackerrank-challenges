{
  "nbformat": 4,
  "nbformat_minor": 0,
  "metadata": {
    "colab": {
      "provenance": [],
      "authorship_tag": "ABX9TyNr3t5GFEfIh3ab4hLQiDri",
      "include_colab_link": true
    },
    "kernelspec": {
      "name": "python3",
      "display_name": "Python 3"
    },
    "language_info": {
      "name": "python"
    }
  },
  "cells": [
    {
      "cell_type": "markdown",
      "metadata": {
        "id": "view-in-github",
        "colab_type": "text"
      },
      "source": [
        "<a href=\"https://colab.research.google.com/github/Fernanda-Prado/hackerrank-challenges/blob/main/Google_Coding_Prep.ipynb\" target=\"_parent\"><img src=\"https://colab.research.google.com/assets/colab-badge.svg\" alt=\"Open In Colab\"/></a>"
      ]
    },
    {
      "cell_type": "markdown",
      "source": [
        "Largest Increasing Subsequence"
      ],
      "metadata": {
        "id": "HZ-Pzpo2WBch"
      }
    },
    {
      "cell_type": "code",
      "execution_count": null,
      "metadata": {
        "id": "dc_F4X20UXWy"
      },
      "outputs": [],
      "source": []
    },
    {
      "cell_type": "markdown",
      "source": [
        "T-9 Auto Correction"
      ],
      "metadata": {
        "id": "q43MoTWqWHdK"
      }
    },
    {
      "cell_type": "code",
      "source": [],
      "metadata": {
        "id": "VeiRR3yxWLMb"
      },
      "execution_count": null,
      "outputs": []
    },
    {
      "cell_type": "markdown",
      "source": [
        "Ransom Note"
      ],
      "metadata": {
        "id": "LM5bVe-xWLxs"
      }
    },
    {
      "cell_type": "code",
      "source": [],
      "metadata": {
        "id": "0-JFZqCgWN2g"
      },
      "execution_count": null,
      "outputs": []
    },
    {
      "cell_type": "markdown",
      "source": [
        "Implement Get Next Node in Binary Tree"
      ],
      "metadata": {
        "id": "onQR8ScKWOjI"
      }
    },
    {
      "cell_type": "code",
      "source": [],
      "metadata": {
        "id": "Lwre9SXwWUeX"
      },
      "execution_count": null,
      "outputs": []
    },
    {
      "cell_type": "markdown",
      "source": [
        "Design a calculator for the blind"
      ],
      "metadata": {
        "id": "WAHRgT27WVCl"
      }
    },
    {
      "cell_type": "code",
      "source": [],
      "metadata": {
        "id": "4_Uq7Sa1WYWI"
      },
      "execution_count": null,
      "outputs": []
    }
  ]
}